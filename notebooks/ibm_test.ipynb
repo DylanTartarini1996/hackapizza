{
 "cells": [
  {
   "cell_type": "code",
   "execution_count": 1,
   "metadata": {},
   "outputs": [],
   "source": [
    "import os \n",
    "from dotenv import load_dotenv\n",
    "from ibm_watsonx_ai import Credentials\n",
    "from ibm_watsonx_ai.foundation_models import ModelInference"
   ]
  },
  {
   "cell_type": "code",
   "execution_count": 2,
   "metadata": {},
   "outputs": [],
   "source": [
    "env = load_dotenv('../config.env')"
   ]
  },
  {
   "cell_type": "code",
   "execution_count": 3,
   "metadata": {},
   "outputs": [
    {
     "data": {
      "text/plain": [
       "'https://us-south.ml.cloud.ibm.com'"
      ]
     },
     "execution_count": 3,
     "metadata": {},
     "output_type": "execute_result"
    }
   ],
   "source": [
    "os.getenv(\"ENDPOINT\")"
   ]
  },
  {
   "cell_type": "code",
   "execution_count": 4,
   "metadata": {},
   "outputs": [
    {
     "data": {
      "text/plain": [
       "'F5bUHT3X4i_mgxjsAkj_-UfSt-P8Yi-4Lp3XNvEHC385'"
      ]
     },
     "execution_count": 4,
     "metadata": {},
     "output_type": "execute_result"
    }
   ],
   "source": [
    "os.getenv(\"API_KEY\")"
   ]
  },
  {
   "cell_type": "code",
   "execution_count": 5,
   "metadata": {},
   "outputs": [
    {
     "data": {
      "text/plain": [
       "'953436b9-d6f8-4c6c-a62e-389fc4c9b018'"
      ]
     },
     "execution_count": 5,
     "metadata": {},
     "output_type": "execute_result"
    }
   ],
   "source": [
    "os.getenv(\"PROJECT_ID\")"
   ]
  },
  {
   "cell_type": "code",
   "execution_count": 6,
   "metadata": {},
   "outputs": [],
   "source": [
    "credentials = Credentials(\n",
    "    url=os.getenv(\"ENDPOINT\"),\n",
    "    api_key=os.getenv(\"API_KEY\")\n",
    ")"
   ]
  },
  {
   "cell_type": "code",
   "execution_count": 7,
   "metadata": {},
   "outputs": [],
   "source": [
    "model = ModelInference(\n",
    "    model_id=\"mistralai/mistral-large\", # Che conosciamo bene 😊🏆 \n",
    "    credentials=credentials,\n",
    "    project_id=os.getenv(\"PROJECT_ID\"),\n",
    "    params={\n",
    "        \"max_tokens\": 200\n",
    "      }\n",
    ")"
   ]
  },
  {
   "cell_type": "code",
   "execution_count": 8,
   "metadata": {},
   "outputs": [
    {
     "name": "stdout",
     "output_type": "stream",
     "text": [
      " Datapizza è considerata una delle community più cool in Italia per diverse ragioni:\n",
      "\n",
      "1. **Focus sull'Innovazione**: Datapizza si concentra su tematiche innovative come l'intelligenza artificiale, il machine learning, la data science e altre tecnologie emergenti. Questo rende la community un hub di conoscenza e scambio di idee all'avanguardia.\n",
      "\n",
      "2. **Eventi e Networking**: La community organizza regolarmente eventi, meetup e workshop che offrono opportunità di networking e apprendimento. Questi eventi sono spesso molto partecipati e coinvolgono esperti del settore, rendendoli un luogo ideale per fare connessioni professionali.\n",
      "\n",
      "3. **Atmosfera Inclusiva**: Datapizza è nota per il suo ambiente accogliente e incl\n"
     ]
    }
   ],
   "source": [
    "result = model.chat(messages=[{'role': 'user', 'content': \"Perchè Datapizza è la community più figa d'Italia?\"}])\n",
    "\n",
    "print(result['choices'][0]['message']['content'])"
   ]
  },
  {
   "cell_type": "code",
   "execution_count": 4,
   "metadata": {},
   "outputs": [],
   "source": [
    "import os\n",
    "from dotenv import load_dotenv\n",
    "from src.agents.llm import fetch_llm\n",
    "from src.config import LLMConf\n",
    "\n",
    "env = load_dotenv('config.env')"
   ]
  },
  {
   "cell_type": "code",
   "execution_count": 7,
   "metadata": {},
   "outputs": [
    {
     "data": {
      "text/plain": [
       "'https://us-south.ml.cloud.ibm.com'"
      ]
     },
     "execution_count": 7,
     "metadata": {},
     "output_type": "execute_result"
    }
   ],
   "source": [
    "os.getenv(\"ENDPOINT\")"
   ]
  },
  {
   "cell_type": "code",
   "execution_count": 8,
   "metadata": {},
   "outputs": [
    {
     "data": {
      "text/plain": [
       "'953436b9-d6f8-4c6c-a62e-389fc4c9b018'"
      ]
     },
     "execution_count": 8,
     "metadata": {},
     "output_type": "execute_result"
    }
   ],
   "source": [
    "os.getenv(\"PROJECT_ID\")"
   ]
  },
  {
   "cell_type": "code",
   "execution_count": 12,
   "metadata": {},
   "outputs": [],
   "source": [
    "llm_conf = LLMConf(\n",
    "    type=\"ibm\",\n",
    "    model=\"mistralai/mistral-large\",\n",
    "    api_key=os.getenv(\"API_KEY\"),\n",
    "    endpoint=os.getenv(\"ENDPOINT\"),\n",
    "    deployment=os.getenv(\"PROJECT_ID\")\n",
    ")"
   ]
  },
  {
   "cell_type": "code",
   "execution_count": 13,
   "metadata": {},
   "outputs": [],
   "source": [
    "llm = fetch_llm(conf=llm_conf)"
   ]
  },
  {
   "cell_type": "code",
   "execution_count": 14,
   "metadata": {},
   "outputs": [
    {
     "data": {
      "text/plain": [
       "\"\\n\\nThe dog, of course.\\n\\nBut what about man's best friend's\""
      ]
     },
     "execution_count": 14,
     "metadata": {},
     "output_type": "execute_result"
    }
   ],
   "source": [
    "llm.invoke(\"Who is man's best friend?\")"
   ]
  },
  {
   "cell_type": "code",
   "execution_count": null,
   "metadata": {},
   "outputs": [],
   "source": []
  }
 ],
 "metadata": {
  "kernelspec": {
   "display_name": ".venv",
   "language": "python",
   "name": "python3"
  },
  "language_info": {
   "codemirror_mode": {
    "name": "ipython",
    "version": 3
   },
   "file_extension": ".py",
   "mimetype": "text/x-python",
   "name": "python",
   "nbconvert_exporter": "python",
   "pygments_lexer": "ipython3",
   "version": "3.12.4"
  }
 },
 "nbformat": 4,
 "nbformat_minor": 2
}
