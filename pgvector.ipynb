{
 "cells": [
  {
   "cell_type": "code",
   "execution_count": 1,
   "metadata": {},
   "outputs": [],
   "source": [
    "import psycopg2"
   ]
  },
  {
   "cell_type": "code",
   "execution_count": 4,
   "metadata": {},
   "outputs": [
    {
     "data": {
      "text/plain": [
       "92"
      ]
     },
     "execution_count": 4,
     "metadata": {},
     "output_type": "execute_result"
    }
   ],
   "source": [
    "conn = psycopg2.connect(\n",
    "    dbname=\"mydatabase\",\n",
    "    user=\"myuser\",\n",
    "    password=\"mypassword\",\n",
    "    host=\"localhost\"\n",
    ")\n",
    "\n",
    "conn.get_backend_pid()"
   ]
  },
  {
   "cell_type": "code",
   "execution_count": 5,
   "metadata": {},
   "outputs": [],
   "source": [
    "with conn.cursor() as cur:\n",
    "    cur.execute(\"\"\"\n",
    "        CREATE TABLE vectors (\n",
    "            id TEXT PRIMARY KEY,\n",
    "            filename TEXT NOT NULL,\n",
    "            source TEXT NOT NULL,\n",
    "            chunk_id TEXT NOT NULL,\n",
    "            chunk_text TEXT NOT NULL,\n",
    "            chunk_size INTEGER, -- Optional\n",
    "            chunk_overlap INTEGER, -- Optional\n",
    "            embeddings_model TEXT NOT NULL,\n",
    "            embedding VECTOR(1536) NOT NULL -- Adjust the dimension to match your model's output\n",
    "        );\n",
    "    \"\"\")\n",
    "    conn.commit()"
   ]
  },
  {
   "cell_type": "code",
   "execution_count": null,
   "metadata": {},
   "outputs": [],
   "source": []
  }
 ],
 "metadata": {
  "kernelspec": {
   "display_name": ".venv",
   "language": "python",
   "name": "python3"
  },
  "language_info": {
   "codemirror_mode": {
    "name": "ipython",
    "version": 3
   },
   "file_extension": ".py",
   "mimetype": "text/x-python",
   "name": "python",
   "nbconvert_exporter": "python",
   "pygments_lexer": "ipython3",
   "version": "3.12.4"
  }
 },
 "nbformat": 4,
 "nbformat_minor": 2
}
